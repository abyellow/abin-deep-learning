{
 "cells": [
  {
   "cell_type": "markdown",
   "metadata": {},
   "source": [
    "# Neural_network_two_layer"
   ]
  },
  {
   "cell_type": "code",
   "execution_count": 36,
   "metadata": {
    "collapsed": true
   },
   "outputs": [],
   "source": [
    "import numpy as np\n",
    "import matplotlib.pyplot as plt\n",
    "from sklearn.datasets import fetch_mldata\n",
    "import heapq\n",
    "\n",
    "%matplotlib inline"
   ]
  },
  {
   "cell_type": "code",
   "execution_count": 2,
   "metadata": {
    "collapsed": false
   },
   "outputs": [],
   "source": [
    "#Load MNIST data\n",
    "mnist = fetch_mldata('MNIST original')#, data_home = custom_data_home)\n",
    "X, y = mnist.data.astype(float) , mnist.target.astype(int)\n"
   ]
  },
  {
   "cell_type": "code",
   "execution_count": 3,
   "metadata": {
    "collapsed": false
   },
   "outputs": [
    {
     "data": {
      "image/png": "[encoded data removed]",
      "text/plain": [
       "<matplotlib.figure.Figure at 0x7f537a6b39d0>"
      ]
     },
     "metadata": {},
     "output_type": "display_data"
    },
    {
     "name": "stdout",
     "output_type": "stream",
     "text": [
      "0\n"
     ]
    }
   ],
   "source": [
    "#Show a number\n",
    "fig_n = 300\n",
    "plt.imshow(X[fig_n,:].reshape(28,28), cmap=\"Greys_r\")\n",
    "plt.show()\n",
    "print y[fig_n]\n",
    "\n",
    "\n",
    "#print mnist.data.shape[0], np.shape(X_train)\n",
    "#print mnist.target.shape\n",
    "#print np.unique(mnist.target)\n",
    "#print mnist.data.shape[1]"
   ]
  },
  {
   "cell_type": "markdown",
   "metadata": {},
   "source": [
    "1.Preprocessing"
   ]
  },
  {
   "cell_type": "code",
   "execution_count": 4,
   "metadata": {
    "collapsed": false
   },
   "outputs": [
    {
     "name": "stdout",
     "output_type": "stream",
     "text": [
      "0 : 0.099\n",
      "1 : 0.113\n",
      "2 : 0.100\n",
      "3 : 0.102\n",
      "4 : 0.097\n",
      "5 : 0.090\n",
      "6 : 0.098\n",
      "7 : 0.104\n",
      "8 : 0.098\n",
      "9 : 0.099\n"
     ]
    }
   ],
   "source": [
    "#Check data distribution\n",
    "y_dict = {}\n",
    "\n",
    "for i in y:\n",
    "    if y_dict.get(i) is None:\n",
    "        y_dict[i] = 1\n",
    "    else:\n",
    "        y_dict[i] += 1\n",
    "\n",
    "for key, value in y_dict.items():\n",
    "    y_dict[key] = value / float(len(y))\n",
    "    print '%d : %.3f' %(key, y_dict[key])\n"
   ]
  },
  {
   "cell_type": "code",
   "execution_count": 5,
   "metadata": {
    "collapsed": false
   },
   "outputs": [
    {
     "data": {
      "image/png": "[encoded data removed]",
      "text/plain": [
       "<matplotlib.figure.Figure at 0x7f537a67c750>"
      ]
     },
     "metadata": {},
     "output_type": "display_data"
    }
   ],
   "source": [
    "#Plot data distribution\n",
    "\n",
    "bins = np.linspace(-0.5,9.5,num = 11)\n",
    "plt.hist(y,bins,alpha=.6,normed = 1,rwidth = .8,label = 'Original ratings')\n",
    "#plt.legend(loc='upper left')\n",
    "plt.xlabel('Label')\n",
    "plt.ylabel('Population ratio')\n",
    "plt.xticks(np.linspace(0.0,9,num = 10))\n",
    "plt.show()"
   ]
  },
  {
   "cell_type": "code",
   "execution_count": 6,
   "metadata": {
    "collapsed": false
   },
   "outputs": [],
   "source": [
    "#Normalization\n",
    "X /= X.max()\n",
    "\n",
    "#Zero mean\n",
    "avg = np.mean(X,axis = 0)\n",
    "X -=  avg\n",
    "\n",
    "#PCA\n",
    "\n",
    "def pca(imox_mtx, k):\n",
    "    imox_sctr = np.dot(imox_mtx.T, imox_mtx)\n",
    "    imox_eigval, imox_eigvec = np.linalg.eig(imox_sctr)\n",
    "    per = np.real(np.sum(imox_eigval[:k])/ np.sum(imox_eigval))\n",
    "    print  'percentage: %.4f'%(per), ', number of features: %d' %(k)\n",
    "    \n",
    "    max_pos = heapq.nlargest(k, xrange(len(imox_eigval)), key=imox_eigval.__getitem__)\n",
    "    transmtx = imox_eigvec[:,max_pos]  \n",
    "    return per, transmtx\n"
   ]
  },
  {
   "cell_type": "code",
   "execution_count": 7,
   "metadata": {
    "collapsed": false
   },
   "outputs": [
    {
     "data": {
      "text/plain": [
       "\"\\nf_num = np.linspace(784,0,30).astype(int)\\npca_per = [pca(X,i)[0] for i in f_num]\\n\\nplt.plot(f_num, pca_per)\\nplt.xlabel('Number of features')\\nplt.ylabel('Eigenvalue percentage of PCA')\\nplt.show()\\n\""
      ]
     },
     "execution_count": 7,
     "metadata": {},
     "output_type": "execute_result"
    }
   ],
   "source": [
    "#plot pca percentage vs features\n",
    "'''\n",
    "f_num = np.linspace(784,0,30).astype(int)\n",
    "pca_per = [pca(X,i)[0] for i in f_num]\n",
    "\n",
    "plt.plot(f_num, pca_per)\n",
    "plt.xlabel('Number of features')\n",
    "plt.ylabel('Eigenvalue percentage of PCA')\n",
    "plt.show()\n",
    "'''"
   ]
  },
  {
   "cell_type": "code",
   "execution_count": 8,
   "metadata": {
    "collapsed": false
   },
   "outputs": [
    {
     "name": "stdout",
     "output_type": "stream",
     "text": [
      "percentage: 0.9953 , number of features: 392\n"
     ]
    }
   ],
   "source": [
    "#PCA transformation\n",
    "per, transmtx = pca(X,392)\n",
    "X = np.dot(transmtx.T, X.T)\n",
    "X = X.T"
   ]
  },
  {
   "cell_type": "code",
   "execution_count": 24,
   "metadata": {
    "collapsed": false
   },
   "outputs": [],
   "source": [
    "#Partition into original train and test to compare with teammates. \n",
    "#X_train0, X_test0 = X[:60000], X[60000:]\n",
    "#y_train0, y_test0 = y[:60000], y[60000:]\n",
    "\n",
    "#Randomlize data since it's put in order from 0 to 9\n",
    "loc = range(70000)\n",
    "np.random.shuffle(loc)\n",
    "X = X[loc,:]\n",
    "y =  y[loc]\n",
    "\n",
    "#Partition into two sets / 2-fold CV\n",
    "parti = X.shape[0]/2\n",
    "X_train, X_test = X[:parti], X[parti:]\n",
    "y_train, y_test = y[:parti], y[parti:]\n",
    "#print np.shape(X_train), type(y_train)"
   ]
  },
  {
   "cell_type": "code",
   "execution_count": 39,
   "metadata": {
    "collapsed": false,
    "scrolled": true
   },
   "outputs": [
    {
     "name": "stdout",
     "output_type": "stream",
     "text": [
      "(392, 20) (20,)\n",
      "(20, 10) (10,)\n",
      "(10, 10) (10,)\n"
     ]
    },
    {
     "ename": "ValueError",
     "evalue": "operands could not be broadcast together with shapes (35000,10) (35000,) ",
     "output_type": "error",
     "traceback": [
      "\u001b[1;31m---------------------------------------------------------------------------\u001b[0m",
      "\u001b[1;31mValueError\u001b[0m                                Traceback (most recent call last)",
      "\u001b[1;32m<ipython-input-39-fd20c1404153>\u001b[0m in \u001b[0;36m<module>\u001b[1;34m()\u001b[0m\n\u001b[0;32m      5\u001b[0m \u001b[1;32mimport\u001b[0m \u001b[0mtime\u001b[0m \u001b[1;32mas\u001b[0m \u001b[0mti\u001b[0m\u001b[1;33m\u001b[0m\u001b[0m\n\u001b[0;32m      6\u001b[0m \u001b[0mst\u001b[0m \u001b[1;33m=\u001b[0m \u001b[0mti\u001b[0m\u001b[1;33m.\u001b[0m\u001b[0mtime\u001b[0m\u001b[1;33m(\u001b[0m\u001b[1;33m)\u001b[0m\u001b[1;33m\u001b[0m\u001b[0m\n\u001b[1;32m----> 7\u001b[1;33m \u001b[0mdnn1\u001b[0m\u001b[1;33m.\u001b[0m\u001b[0mmodel\u001b[0m\u001b[1;33m(\u001b[0m\u001b[1;33m)\u001b[0m\u001b[1;33m\u001b[0m\u001b[0m\n\u001b[0m\u001b[0;32m      8\u001b[0m \u001b[1;32mprint\u001b[0m \u001b[0mti\u001b[0m\u001b[1;33m.\u001b[0m\u001b[0mtime\u001b[0m\u001b[1;33m(\u001b[0m\u001b[1;33m)\u001b[0m\u001b[1;33m-\u001b[0m\u001b[0mst\u001b[0m\u001b[1;33m\u001b[0m\u001b[0m\n\u001b[0;32m      9\u001b[0m \u001b[1;33m\u001b[0m\u001b[0m\n",
      "\u001b[1;32m/home/abin/abin/projects/abin-deep-learning-tensorflow/dnn.py\u001b[0m in \u001b[0;36mmodel\u001b[1;34m(self)\u001b[0m\n\u001b[0;32m     72\u001b[0m                         \u001b[1;31m#calculate loss################:\u001b[0m\u001b[1;33m\u001b[0m\u001b[1;33m\u001b[0m\u001b[0m\n\u001b[0;32m     73\u001b[0m                         \u001b[0mscores\u001b[0m \u001b[1;33m=\u001b[0m \u001b[1;33m(\u001b[0m\u001b[0mfstate\u001b[0m\u001b[1;33m[\u001b[0m\u001b[0mh_deep\u001b[0m\u001b[1;33m]\u001b[0m\u001b[1;33m)\u001b[0m\u001b[1;31m#np.dot(state[h_deep], ham[h_deep]) + const[h_deep]\u001b[0m\u001b[1;33m\u001b[0m\u001b[0m\n\u001b[1;32m---> 74\u001b[1;33m                         \u001b[0mexp_scores\u001b[0m \u001b[1;33m=\u001b[0m \u001b[0mnp\u001b[0m\u001b[1;33m.\u001b[0m\u001b[0mexp\u001b[0m\u001b[1;33m(\u001b[0m\u001b[0mscores\u001b[0m\u001b[1;33m)\u001b[0m\u001b[1;33m\u001b[0m\u001b[0m\n\u001b[0m\u001b[0;32m     75\u001b[0m                         \u001b[0mprobs\u001b[0m \u001b[1;33m=\u001b[0m \u001b[0mnp\u001b[0m\u001b[1;33m.\u001b[0m\u001b[0mdivide\u001b[0m\u001b[1;33m(\u001b[0m\u001b[0mexp_scores\u001b[0m\u001b[1;33m,\u001b[0m  \u001b[0mnp\u001b[0m\u001b[1;33m.\u001b[0m\u001b[0msum\u001b[0m\u001b[1;33m(\u001b[0m\u001b[0mexp_scores\u001b[0m\u001b[1;33m,\u001b[0m\u001b[0maxis\u001b[0m\u001b[1;33m=\u001b[0m\u001b[1;36m1\u001b[0m\u001b[1;33m,\u001b[0m\u001b[0mkeepdims\u001b[0m\u001b[1;33m=\u001b[0m\u001b[0mTrue\u001b[0m\u001b[1;33m)\u001b[0m\u001b[1;33m)\u001b[0m\u001b[1;31m# (np.sum(exp_scores, axis = 1).reshape(self.ndata,1)+np.ones(self.nclass))\u001b[0m\u001b[1;33m\u001b[0m\u001b[0m\n\u001b[0;32m     76\u001b[0m                         \u001b[0mcorect_logprobs\u001b[0m \u001b[1;33m=\u001b[0m \u001b[1;33m-\u001b[0m\u001b[0mnp\u001b[0m\u001b[1;33m.\u001b[0m\u001b[0mlog\u001b[0m\u001b[1;33m(\u001b[0m\u001b[0mnp\u001b[0m\u001b[1;33m.\u001b[0m\u001b[0msum\u001b[0m\u001b[1;33m(\u001b[0m\u001b[0mprobs\u001b[0m\u001b[1;33m*\u001b[0m\u001b[0mself\u001b[0m\u001b[1;33m.\u001b[0m\u001b[0mY\u001b[0m\u001b[1;33m,\u001b[0m\u001b[0maxis\u001b[0m\u001b[1;33m=\u001b[0m\u001b[1;36m1\u001b[0m\u001b[1;33m)\u001b[0m\u001b[1;33m)\u001b[0m\u001b[1;33m\u001b[0m\u001b[0m\n",
      "\u001b[1;31mValueError\u001b[0m: operands could not be broadcast together with shapes (35000,10) (35000,) "
     ]
    }
   ],
   "source": [
    "from dnn import dnn\n",
    "# accu1: use train as train, test as tet\n",
    "iter_times = 1000\n",
    "dnn1 = dnn(X_train, y_train, h_size = [20,10], niter = iter_times)\n",
    "import time as ti\n",
    "st = ti.time()\n",
    "dnn1.model()\n",
    "print ti.time()-st\n",
    "\n",
    "y_tepd = dnn1.predict(X_test[:,:])\n",
    "acc1 = dnn1.accuracy(y_test[0:],y_tepd)\n",
    "print acc1"
   ]
  },
  {
   "cell_type": "code",
   "execution_count": 21,
   "metadata": {
    "collapsed": false
   },
   "outputs": [
    {
     "ename": "NameError",
     "evalue": "name 'neural_net_two_layer' is not defined",
     "output_type": "error",
     "traceback": [
      "\u001b[1;31m---------------------------------------------------------------------------\u001b[0m",
      "\u001b[1;31mNameError\u001b[0m                                 Traceback (most recent call last)",
      "\u001b[1;32m<ipython-input-21-023857138fbf>\u001b[0m in \u001b[0;36m<module>\u001b[1;34m()\u001b[0m\n\u001b[0;32m      1\u001b[0m \u001b[1;31m# accu2: use train as test, test as train\u001b[0m\u001b[1;33m\u001b[0m\u001b[1;33m\u001b[0m\u001b[0m\n\u001b[1;32m----> 2\u001b[1;33m \u001b[0mnntl\u001b[0m \u001b[1;33m=\u001b[0m \u001b[0mneural_net_two_layer\u001b[0m\u001b[1;33m(\u001b[0m\u001b[0mX_test\u001b[0m\u001b[1;33m,\u001b[0m \u001b[0my_test\u001b[0m\u001b[1;33m,\u001b[0m \u001b[0mniter\u001b[0m \u001b[1;33m=\u001b[0m \u001b[1;36m10000\u001b[0m\u001b[1;33m,\u001b[0m \u001b[0mh_size\u001b[0m \u001b[1;33m=\u001b[0m \u001b[1;36m10\u001b[0m\u001b[1;33m,\u001b[0m \u001b[0mreg\u001b[0m \u001b[1;33m=\u001b[0m \u001b[1;36m0.001\u001b[0m\u001b[1;33m)\u001b[0m\u001b[1;33m\u001b[0m\u001b[0m\n\u001b[0m\u001b[0;32m      3\u001b[0m \u001b[1;32mimport\u001b[0m \u001b[0mtime\u001b[0m \u001b[1;32mas\u001b[0m \u001b[0mti\u001b[0m\u001b[1;33m\u001b[0m\u001b[0m\n\u001b[0;32m      4\u001b[0m \u001b[0mst\u001b[0m \u001b[1;33m=\u001b[0m \u001b[0mti\u001b[0m\u001b[1;33m.\u001b[0m\u001b[0mtime\u001b[0m\u001b[1;33m(\u001b[0m\u001b[1;33m)\u001b[0m\u001b[1;33m\u001b[0m\u001b[0m\n\u001b[0;32m      5\u001b[0m \u001b[0mnntl\u001b[0m\u001b[1;33m.\u001b[0m\u001b[0mmodel\u001b[0m\u001b[1;33m(\u001b[0m\u001b[1;33m)\u001b[0m\u001b[1;33m\u001b[0m\u001b[0m\n",
      "\u001b[1;31mNameError\u001b[0m: name 'neural_net_two_layer' is not defined"
     ]
    }
   ],
   "source": [
    "# accu2: use train as test, test as train\n",
    "nntl = neural_net_two_layer(X_test, y_test, niter = 10000, h_size = 10, reg = 0.001)\n",
    "import time as ti\n",
    "st = ti.time()\n",
    "nntl.model()\n",
    "print ti.time()-st\n",
    "\n",
    "y_trpd = nntl.predict(X_train[:,:])\n",
    "acc2 = nntl.accuracy(y_train[0:],y_trpd)\n",
    "print acc2\n"
   ]
  },
  {
   "cell_type": "code",
   "execution_count": null,
   "metadata": {
    "collapsed": false
   },
   "outputs": [],
   "source": [
    "# 2-fold average accuracy\n",
    "print 'average accuracy: %.4f' %(100*(acc1+acc2)/2.), '%'"
   ]
  },
  {
   "cell_type": "code",
   "execution_count": null,
   "metadata": {
    "collapsed": false
   },
   "outputs": [],
   "source": [
    "xh = [2,5,10,20]\n",
    "yh = [70.29,88.55,93.33,95.32]\n",
    "plt.plot(xh,yh)\n",
    "plt.plot(xh,yh,'o')\n",
    "plt.xlabel('Hidden layer size')\n",
    "plt.ylabel('Accuracy')\n",
    "plt.show()"
   ]
  },
  {
   "cell_type": "code",
   "execution_count": null,
   "metadata": {
    "collapsed": false,
    "scrolled": true
   },
   "outputs": [],
   "source": [
    "xh = [0.0001,0.001,0.01,0.1]\n",
    "yh = [93.37,93.33,91.87,85.04]\n",
    "plt.plot(xh,yh,'o')"
   ]
  },
  {
   "cell_type": "code",
   "execution_count": null,
   "metadata": {
    "collapsed": false
   },
   "outputs": [],
   "source": [
    "#Use last 10000 as test\n",
    "\n",
    "nntl = neural_net_two_layer(X_train0, y_train0, h_size = 20, reg = 0.001)\n",
    "import time as ti\n",
    "st = ti.time()\n",
    "nntl.model()\n",
    "print ti.time()-st\n",
    "\n",
    "y_tepd0 = nntl.predict(X_test0[:,:])\n",
    "acc = nntl.accuracy(y_test0[0:],y_tepd0)\n",
    "print acc"
   ]
  },
  {
   "cell_type": "code",
   "execution_count": null,
   "metadata": {
    "collapsed": false
   },
   "outputs": [],
   "source": []
  },
  {
   "cell_type": "code",
   "execution_count": null,
   "metadata": {
    "collapsed": true
   },
   "outputs": [],
   "source": []
  }
 ],
 "metadata": {
  "kernelspec": {
   "display_name": "Python 2",
   "language": "python",
   "name": "python2"
  },
  "language_info": {
   "codemirror_mode": {
    "name": "ipython",
    "version": 2
   },
   "file_extension": ".py",
   "mimetype": "text/x-python",
   "name": "python",
   "nbconvert_exporter": "python",
   "pygments_lexer": "ipython2",
   "version": "2.7.12"
  }
 },
 "nbformat": 4,
 "nbformat_minor": 0
}
